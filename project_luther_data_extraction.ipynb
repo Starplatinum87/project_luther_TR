{
 "cells": [
  {
   "cell_type": "markdown",
   "metadata": {},
   "source": [
    "# IMDbPro - Data Extraction"
   ]
  },
  {
   "cell_type": "markdown",
   "metadata": {},
   "source": [
    "## Beautiful Soup"
   ]
  },
  {
   "cell_type": "code",
   "execution_count": 10,
   "metadata": {},
   "outputs": [],
   "source": [
    "# Get Shameik Moore's IMDb Pro page HTML\n",
    "import requests\n",
    "requests.__path__\n",
    "\n",
    "import re #REGEX for more powerful string finding\n",
    "\n",
    "from bs4 import BeautifulSoup\n",
    "\n",
    "url = 'https://pro.imdb.com/name/nm4271336/?ref_=tt_cst_1'\n",
    "\n",
    "response = requests.get(url)\n",
    "page = response.text\n",
    "soup = BeautifulSoup(page, \"lxml\")"
   ]
  },
  {
   "cell_type": "code",
   "execution_count": 34,
   "metadata": {},
   "outputs": [
    {
     "data": {
      "text/plain": [
       "'Shameik Moore'"
      ]
     },
     "execution_count": 34,
     "metadata": {},
     "output_type": "execute_result"
    }
   ],
   "source": [
    "# Actor's Name: Tag = <h1>\n",
    "for link in soup.find_all('h1'): \n",
    "    name = link\n",
    "    name = str(name)[10:-12]\n",
    "name"
   ]
  },
  {
   "cell_type": "code",
   "execution_count": 50,
   "metadata": {},
   "outputs": [
    {
     "data": {
      "text/plain": [
       "' (age 23)\\n'"
      ]
     },
     "execution_count": 50,
     "metadata": {},
     "output_type": "execute_result"
    }
   ],
   "source": [
    "# Date of Birth as int\n",
    "age_regex = re.compile('age\\s(\\d{2,3})')\n",
    "age_string = soup.find(text=age_regex)\n",
    "age_string"
   ]
  },
  {
   "cell_type": "code",
   "execution_count": 53,
   "metadata": {},
   "outputs": [
    {
     "data": {
      "text/plain": [
       "' (1.70m)\\n'"
      ]
     },
     "execution_count": 53,
     "metadata": {},
     "output_type": "execute_result"
    }
   ],
   "source": [
    "# Height as float\n",
    "height_regex = re.compile('(?<=\\()(\\d\\.\\d{2})(?=m\\))')\n",
    "height_string = soup.find(text=height_regex)\n",
    "str(height_string)"
   ]
  },
  {
   "cell_type": "markdown",
   "metadata": {},
   "source": [
    "## Selenium"
   ]
  },
  {
   "cell_type": "code",
   "execution_count": 65,
   "metadata": {},
   "outputs": [],
   "source": [
    "# Import libraries\n",
    "from selenium import webdriver\n",
    "from selenium.webdriver.common.action_chains import ActionChains\n",
    "from selenium.webdriver.common.keys import Keys\n",
    "import time\n",
    "import pandas as pd"
   ]
  },
  {
   "cell_type": "code",
   "execution_count": 66,
   "metadata": {},
   "outputs": [],
   "source": [
    "# Open IMDbPro Log in page \n",
    "driver = webdriver.Chrome('/Applications/chromedriver')\n",
    "driver.get('https://secure.imdb.com/ap/signin?openid.pape.max_auth_age=0&openid.return_to=https%3A%2F%2Fwww.imdb.com%2Fap-signin-handler&openid.identity=http%3A%2F%2Fspecs.openid.net%2Fauth%2F2.0%2Fidentifier_select&openid.assoc_handle=imdb_pro_us&openid.mode=checkid_setup&siteState=eyJvcGVuaWQuYXNzb2NfaGFuZGxlIjoiaW1kYl9wcm9fdXMiLCJyZWRpcmVjdFRvIjoiaHR0cHM6Ly9wcm8uaW1kYi5jb20vIn0&openid.claimed_id=http%3A%2F%2Fspecs.openid.net%2Fauth%2F2.0%2Fidentifier_select&openid.ns=http%3A%2F%2Fspecs.openid.net%2Fauth%2F2.0')"
   ]
  },
  {
   "cell_type": "code",
   "execution_count": 46,
   "metadata": {},
   "outputs": [],
   "source": [
    "# Enter email on login page\n",
    "driver.find_element_by_xpath('//*[@id=\"ap_email\"]').send_keys('starplatinum87@gmail.com')\n",
    "pass "
   ]
  },
  {
   "cell_type": "code",
   "execution_count": 40,
   "metadata": {},
   "outputs": [],
   "source": [
    "# # Hover over Login\n",
    "# hover_element = driver.find_element_by_xpath('//*[@id=\"imdb_pro_login_popover\"]')\n",
    "# hover = ActionChains(driver).move_to_element(hover_element)  \n",
    "# hover.perform()\n",
    "\n",
    "# # Hover over IMDb Login\n",
    "# hover_element = driver.find_element_by_xpath('//*[@id=\"imdb_pro_login_popover\"]')\n",
    "# hover = ActionChains(driver).move_to_element(hover_element)  \n",
    "# hover.perform()\n",
    "\n",
    "# # Click on IMDb Log In\n",
    "# IMDb_click = driver.find_element_by_xpath('//*[@id=\"login_with_imdb\"]/div/div/div/div[1]/img')\n",
    "# IMDb_click.click()\n",
    "\n",
    "\n",
    "\n",
    "\n"
   ]
  },
  {
   "cell_type": "code",
   "execution_count": 47,
   "metadata": {},
   "outputs": [],
   "source": [
    "# Go to STARmeter page \n",
    "driver.get('https://pro.imdb.com/people?ref_=hm_reel_sm_all#sort=ranking')"
   ]
  },
  {
   "cell_type": "code",
   "execution_count": 62,
   "metadata": {},
   "outputs": [],
   "source": [
    "driver.execute_script(\"window.scrollTo(0, 3500)\")"
   ]
  },
  {
   "cell_type": "code",
   "execution_count": 64,
   "metadata": {},
   "outputs": [
    {
     "ename": "KeyboardInterrupt",
     "evalue": "",
     "output_type": "error",
     "traceback": [
      "\u001b[0;31m---------------------------------------------------------------------------\u001b[0m",
      "\u001b[0;31mKeyboardInterrupt\u001b[0m                         Traceback (most recent call last)",
      "\u001b[0;32m<ipython-input-64-248f1b5dc5d3>\u001b[0m in \u001b[0;36m<module>\u001b[0;34m\u001b[0m\n\u001b[1;32m      2\u001b[0m \u001b[0;32mfor\u001b[0m \u001b[0mi\u001b[0m \u001b[0;32min\u001b[0m \u001b[0mrange\u001b[0m\u001b[0;34m(\u001b[0m\u001b[0;36m41\u001b[0m\u001b[0;34m)\u001b[0m\u001b[0;34m:\u001b[0m\u001b[0;34m\u001b[0m\u001b[0;34m\u001b[0m\u001b[0m\n\u001b[1;32m      3\u001b[0m     \u001b[0mdriver\u001b[0m\u001b[0;34m.\u001b[0m\u001b[0mexecute_script\u001b[0m\u001b[0;34m(\u001b[0m\u001b[0;34m\"window.scrollTo(0, 143500)\"\u001b[0m\u001b[0;34m)\u001b[0m\u001b[0;34m\u001b[0m\u001b[0;34m\u001b[0m\u001b[0m\n\u001b[0;32m----> 4\u001b[0;31m     \u001b[0mtime\u001b[0m\u001b[0;34m.\u001b[0m\u001b[0msleep\u001b[0m\u001b[0;34m(\u001b[0m\u001b[0;36m2.5\u001b[0m\u001b[0;34m)\u001b[0m\u001b[0;34m\u001b[0m\u001b[0;34m\u001b[0m\u001b[0m\n\u001b[0m",
      "\u001b[0;31mKeyboardInterrupt\u001b[0m: "
     ]
    }
   ],
   "source": [
    "# Scroll until 1000+ entries are visible\n",
    "for i in range(41):\n",
    "    driver.execute_script(\"window.scrollTo(0, 143500)\")\n",
    "    time.sleep(2.5)"
   ]
  },
  {
   "cell_type": "code",
   "execution_count": null,
   "metadata": {},
   "outputs": [],
   "source": [
    "# Extract Data (Actor Name, STARmeter rating, Actor Page URL)\n",
    "\n",
    "# Get actor's name\n",
    "name_list = []\n",
    "for i in range(1, 25):\n",
    "    xpath = '//*[@id=\"results\"]/ul/li[' + str(i) + ']/ul/li[1]/span/a'\n",
    "    get_name = driver.find_elements_by_xpath(xpath)[0]\n",
    "    name = get_name.text\n",
    "    name_list.append(name)"
   ]
  },
  {
   "cell_type": "code",
   "execution_count": 75,
   "metadata": {},
   "outputs": [],
   "source": [
    "# Get actor's STARmeter rating \n",
    "rank_list = []\n",
    "for i in range(1, 25):\n",
    "    xpath = '//*[@id=\"results\"]/ul/li[' + str(i) + ']/span[1]'\n",
    "    get_rank = driver.find_elements_by_xpath(xpath)[0]\n",
    "    name = get_rank.text\n",
    "    rank_list.append(name)\n"
   ]
  },
  {
   "cell_type": "code",
   "execution_count": 76,
   "metadata": {},
   "outputs": [
    {
     "data": {
      "text/plain": [
       "['1',\n",
       " '2',\n",
       " '3',\n",
       " '4',\n",
       " '5',\n",
       " '6',\n",
       " '7',\n",
       " '8',\n",
       " '9',\n",
       " '10',\n",
       " '11',\n",
       " '12',\n",
       " '13',\n",
       " '14',\n",
       " '15',\n",
       " '16',\n",
       " '17',\n",
       " '18',\n",
       " '19',\n",
       " '20',\n",
       " '21',\n",
       " '22',\n",
       " '23',\n",
       " '24']"
      ]
     },
     "execution_count": 76,
     "metadata": {},
     "output_type": "execute_result"
    }
   ],
   "source": [
    "# Get actor's STARmeter rating "
   ]
  },
  {
   "cell_type": "code",
   "execution_count": null,
   "metadata": {},
   "outputs": [],
   "source": [
    "# Open up each actor's page and put data into df\n",
    "# Extract Age\n",
    "# Extract Height\n",
    "# Extract Number of articles written about actor\n",
    "# Extract URL of Articles Written \n",
    "# Extract Number of images on IMDb\n",
    "# Extract URL of first Known For films\n",
    "# Extract URL of last film with budget numbers\n",
    "# Extract Production Budget of last film with budget numbers\n",
    "# Extract US Gross of last film with production budget numbers\n",
    "# Extract Worldwide Gross of last film with production budget numbers\n",
    "# Extract Instagram page URL\n",
    "# Extract Twitter page URL"
   ]
  },
  {
   "cell_type": "code",
   "execution_count": null,
   "metadata": {},
   "outputs": [],
   "source": [
    "# Open up page of most recently released film for each actor with a production budget\n",
    "# Extract MOVIEmeter rating of film\n",
    "# Extract Budget\n",
    "# Extract Opening Weekend\n",
    "# Extract Gross (USA)\n",
    "# Extract Gross (World)\n",
    "# Extract Release Date\n",
    "# Exract Ratings Breakdown \n",
    "# Extract Number of Ratings Votes"
   ]
  },
  {
   "cell_type": "markdown",
   "metadata": {},
   "source": [
    "#### Stretch Goals"
   ]
  },
  {
   "cell_type": "code",
   "execution_count": null,
   "metadata": {},
   "outputs": [],
   "source": [
    "# Go to actor's Article's Written page and get time since last article written\n",
    "# Get total time since last 5 articles written"
   ]
  }
 ],
 "metadata": {
  "kernelspec": {
   "display_name": "Python 3",
   "language": "python",
   "name": "python3"
  },
  "language_info": {
   "codemirror_mode": {
    "name": "ipython",
    "version": 3
   },
   "file_extension": ".py",
   "mimetype": "text/x-python",
   "name": "python",
   "nbconvert_exporter": "python",
   "pygments_lexer": "ipython3",
   "version": "3.6.7"
  }
 },
 "nbformat": 4,
 "nbformat_minor": 2
}
