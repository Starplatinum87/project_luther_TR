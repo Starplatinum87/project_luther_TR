{
 "cells": [
  {
   "cell_type": "markdown",
   "metadata": {},
   "source": [
    "# IMDbPro - Data Extraction"
   ]
  },
  {
   "cell_type": "markdown",
   "metadata": {},
   "source": [
    "## Beautiful Soup"
   ]
  },
  {
   "cell_type": "code",
   "execution_count": 1,
   "metadata": {},
   "outputs": [],
   "source": [
    "# Get Shameik Moore's IMDb Pro page HTML\n",
    "import requests\n",
    "requests.__path__\n",
    "\n",
    "import re #REGEX for more powerful string finding\n",
    "\n",
    "from bs4 import BeautifulSoup\n",
    "\n",
    "url = 'https://pro.imdb.com/name/nm4271336/?ref_=tt_cst_1'\n",
    "\n",
    "response = requests.get(url)\n",
    "page = response.text\n",
    "soup = BeautifulSoup(page, \"lxml\")"
   ]
  },
  {
   "cell_type": "code",
   "execution_count": 34,
   "metadata": {},
   "outputs": [
    {
     "data": {
      "text/plain": [
       "'Shameik Moore'"
      ]
     },
     "execution_count": 34,
     "metadata": {},
     "output_type": "execute_result"
    }
   ],
   "source": [
    "# Actor's Name: Tag = <h1>\n",
    "for link in soup.find_all('h1'): \n",
    "    name = link\n",
    "    name = str(name)[10:-12]\n",
    "name"
   ]
  },
  {
   "cell_type": "code",
   "execution_count": 50,
   "metadata": {},
   "outputs": [
    {
     "data": {
      "text/plain": [
       "' (age 23)\\n'"
      ]
     },
     "execution_count": 50,
     "metadata": {},
     "output_type": "execute_result"
    }
   ],
   "source": [
    "# Date of Birth as int\n",
    "age_regex = re.compile('age\\s(\\d{2,3})')\n",
    "age_string = soup.find(text=age_regex)\n",
    "age_string"
   ]
  },
  {
   "cell_type": "code",
   "execution_count": 53,
   "metadata": {},
   "outputs": [
    {
     "data": {
      "text/plain": [
       "' (1.70m)\\n'"
      ]
     },
     "execution_count": 53,
     "metadata": {},
     "output_type": "execute_result"
    }
   ],
   "source": [
    "# Height as float\n",
    "height_regex = re.compile('(?<=\\()(\\d\\.\\d{2})(?=m\\))')\n",
    "height_string = soup.find(text=height_regex)\n",
    "str(height_string)"
   ]
  },
  {
   "cell_type": "markdown",
   "metadata": {},
   "source": [
    "## Selenium"
   ]
  },
  {
   "cell_type": "code",
   "execution_count": 2,
   "metadata": {},
   "outputs": [],
   "source": [
    "# Import libraries\n",
    "from selenium import webdriver\n",
    "from selenium.webdriver.common.action_chains import ActionChains\n",
    "import time\n",
    "from requests import get\n",
    "import pandas as pd\n",
    "import requests\n",
    "requests.__path__\n",
    "\n",
    "import re #REGEX for more powerful string finding\n",
    "\n",
    "from bs4 import BeautifulSoup"
   ]
  },
  {
   "cell_type": "code",
   "execution_count": 66,
   "metadata": {},
   "outputs": [],
   "source": [
    "# Open IMDbPro Log in page \n",
    "driver = webdriver.Chrome('/Applications/chromedriver')\n",
    "driver.get('https://secure.imdb.com/ap/signin?openid.pape.max_auth_age=0&openid.return_to=https%3A%2F%2Fwww.imdb.com%2Fap-signin-handler&openid.identity=http%3A%2F%2Fspecs.openid.net%2Fauth%2F2.0%2Fidentifier_select&openid.assoc_handle=imdb_pro_us&openid.mode=checkid_setup&siteState=eyJvcGVuaWQuYXNzb2NfaGFuZGxlIjoiaW1kYl9wcm9fdXMiLCJyZWRpcmVjdFRvIjoiaHR0cHM6Ly9wcm8uaW1kYi5jb20vIn0&openid.claimed_id=http%3A%2F%2Fspecs.openid.net%2Fauth%2F2.0%2Fidentifier_select&openid.ns=http%3A%2F%2Fspecs.openid.net%2Fauth%2F2.0')"
   ]
  },
  {
   "cell_type": "code",
   "execution_count": 46,
   "metadata": {},
   "outputs": [],
   "source": [
    "# Enter email on login page\n",
    "driver.find_element_by_xpath('//*[@id=\"ap_email\"]').send_keys('starplatinum87@gmail.com')\n",
    "pass "
   ]
  },
  {
   "cell_type": "code",
   "execution_count": 40,
   "metadata": {},
   "outputs": [],
   "source": [
    "# # Hover over Login\n",
    "# hover_element = driver.find_element_by_xpath('//*[@id=\"imdb_pro_login_popover\"]')\n",
    "# hover = ActionChains(driver).move_to_element(hover_element)  \n",
    "# hover.perform()\n",
    "\n",
    "# # Hover over IMDb Login\n",
    "# hover_element = driver.find_element_by_xpath('//*[@id=\"imdb_pro_login_popover\"]')\n",
    "# hover = ActionChains(driver).move_to_element(hover_element)  \n",
    "# hover.perform()\n",
    "\n",
    "# # Click on IMDb Log In\n",
    "# IMDb_click = driver.find_element_by_xpath('//*[@id=\"login_with_imdb\"]/div/div/div/div[1]/img')\n",
    "# IMDb_click.click()\n",
    "\n",
    "\n",
    "\n",
    "\n"
   ]
  },
  {
   "cell_type": "code",
   "execution_count": 47,
   "metadata": {},
   "outputs": [],
   "source": [
    "# Go to STARmeter page \n",
    "driver.get('https://pro.imdb.com/people?ref_=hm_reel_sm_all#sort=ranking')"
   ]
  },
  {
   "cell_type": "code",
   "execution_count": 62,
   "metadata": {},
   "outputs": [],
   "source": [
    "driver.execute_script(\"window.scrollTo(0, 3500)\")"
   ]
  },
  {
   "cell_type": "code",
   "execution_count": 64,
   "metadata": {},
   "outputs": [
    {
     "ename": "KeyboardInterrupt",
     "evalue": "",
     "output_type": "error",
     "traceback": [
      "\u001b[0;31m---------------------------------------------------------------------------\u001b[0m",
      "\u001b[0;31mKeyboardInterrupt\u001b[0m                         Traceback (most recent call last)",
      "\u001b[0;32m<ipython-input-64-248f1b5dc5d3>\u001b[0m in \u001b[0;36m<module>\u001b[0;34m\u001b[0m\n\u001b[1;32m      2\u001b[0m \u001b[0;32mfor\u001b[0m \u001b[0mi\u001b[0m \u001b[0;32min\u001b[0m \u001b[0mrange\u001b[0m\u001b[0;34m(\u001b[0m\u001b[0;36m41\u001b[0m\u001b[0;34m)\u001b[0m\u001b[0;34m:\u001b[0m\u001b[0;34m\u001b[0m\u001b[0;34m\u001b[0m\u001b[0m\n\u001b[1;32m      3\u001b[0m     \u001b[0mdriver\u001b[0m\u001b[0;34m.\u001b[0m\u001b[0mexecute_script\u001b[0m\u001b[0;34m(\u001b[0m\u001b[0;34m\"window.scrollTo(0, 143500)\"\u001b[0m\u001b[0;34m)\u001b[0m\u001b[0;34m\u001b[0m\u001b[0;34m\u001b[0m\u001b[0m\n\u001b[0;32m----> 4\u001b[0;31m     \u001b[0mtime\u001b[0m\u001b[0;34m.\u001b[0m\u001b[0msleep\u001b[0m\u001b[0;34m(\u001b[0m\u001b[0;36m2.5\u001b[0m\u001b[0;34m)\u001b[0m\u001b[0;34m\u001b[0m\u001b[0;34m\u001b[0m\u001b[0m\n\u001b[0m",
      "\u001b[0;31mKeyboardInterrupt\u001b[0m: "
     ]
    }
   ],
   "source": [
    "# Scroll until 1000+ entries are visible\n",
    "for i in range(41):\n",
    "    driver.execute_script(\"window.scrollTo(0, 143500)\")\n",
    "    time.sleep(2.5)"
   ]
  },
  {
   "cell_type": "code",
   "execution_count": null,
   "metadata": {},
   "outputs": [],
   "source": [
    "# Extract Data (Actor Name, STARmeter rating, Actor Page URL)\n",
    "\n",
    "# Get actor's name\n",
    "name_list = []\n",
    "for i in range(1, 25):\n",
    "    xpath = '//*[@id=\"results\"]/ul/li[' + str(i) + ']/ul/li[1]/span/a'\n",
    "    get_name = driver.find_elements_by_xpath(xpath)[0]\n",
    "    name = get_name.text\n",
    "    name_list.append(name)"
   ]
  },
  {
   "cell_type": "code",
   "execution_count": 75,
   "metadata": {},
   "outputs": [],
   "source": [
    "# Get actor's STARmeter rating \n",
    "rank_list = []\n",
    "for i in range(1, 25):\n",
    "    xpath = '//*[@id=\"results\"]/ul/li[' + str(i) + ']/span[1]'\n",
    "    get_rank = driver.find_elements_by_xpath(xpath)[0]\n",
    "    name = get_rank.text\n",
    "    rank_list.append(name)\n"
   ]
  },
  {
   "cell_type": "code",
   "execution_count": 77,
   "metadata": {},
   "outputs": [],
   "source": [
    "# Get actor's page URL\n",
    "URL_list = []\n",
    "for i in range(1, 25):\n",
    "    URL = '//*[@id=\"results\"]/ul/li[' + str(i) + ']/ul/li[1]/span/a'\n",
    "    actor_URL_element = driver.find_elements_by_xpath(URL)[0]\n",
    "    actor_URL = actor_URL_element.get_attribute('href')\n",
    "    URL_list.append(actor_URL)\n"
   ]
  },
  {
   "cell_type": "code",
   "execution_count": 3,
   "metadata": {},
   "outputs": [],
   "source": [
    "# Soupify actor's page\n",
    "talent_url = 'https://pro.imdb.com/name/nm5634768/?ref_=hm_reel_sm_l02'\n",
    "response = requests.get(talent_url)\n",
    "page = response.text\n",
    "soup = BeautifulSoup(page, \"lxml\")"
   ]
  },
  {
   "cell_type": "code",
   "execution_count": 39,
   "metadata": {},
   "outputs": [
    {
     "data": {
      "text/plain": [
       "26"
      ]
     },
     "execution_count": 39,
     "metadata": {},
     "output_type": "execute_result"
    }
   ],
   "source": [
    "# Age as int\n",
    "age_regex = re.compile('age\\s(\\d{2,3})')\n",
    "age_string = soup.find(text=age_regex)\n",
    "int(age_string[6:-2])"
   ]
  },
  {
   "cell_type": "code",
   "execution_count": 47,
   "metadata": {},
   "outputs": [
    {
     "data": {
      "text/plain": [
       "1.73"
      ]
     },
     "execution_count": 47,
     "metadata": {},
     "output_type": "execute_result"
    }
   ],
   "source": [
    "# Extract Height\n",
    "height_regex = re.compile('\\(\\d\\.\\d{2}m\\)')\n",
    "height_string = soup.find(text=height_regex)\n",
    "float(height_string[2:-3])"
   ]
  },
  {
   "cell_type": "code",
   "execution_count": 37,
   "metadata": {},
   "outputs": [
    {
     "data": {
      "text/plain": [
       "'var aPageStart = (new Date()).getTime(); \\n\\n Elizabeth Lail - IMDbPro\\n \\n\\n\\n\\n\\n\\n\\n\\nvar ue_sid = \"000-0000000-0000000\"; // inject session id\\nvar ue_id = \"9X0SWRQCC63QB2EAP033\"; // inject main request id\\n\\n\\n\\n\\n\\n\\n\\n(function(g,h,O,pa){function k(a){v&&v.tag&&v.tag(q(\":\",\"aui\",a))}function x(a,b){v&&v.count&&v.count(\"aui:\"+a,0===b?0:b||(v.count(\"aui:\"+a)||0)+1)}function l(a){try{return a.test(navigator.userAgent)}catch(b){return!1}}function w(a,b,c){a.addEventListener?a.addEventListener(b,c,!1):a.attachEvent&&a.attachEvent(\"on\"+b,c)}function q(a,b,c,d){b=b&&c?b+a+c:b||c;return d?q(a,b,d):b}function E(a,b,c){try{Object.defineProperty(a,b,{value:c,writable:!1})}catch(d){a[b]=c}return c}function P(){return setTimeout(Y,\\n0)}function qa(a,b){var c=a.length,d=c,f=function(){d--||(Q.push(b),R||(P(),R=!0))};for(f();c--;)Z[a[c]]?f():(z[a[c]]=z[a[c]]||[]).push(f)}function ra(a,b,c,d,f){var e=h.createElement(a?\"script\":\"link\");w(e,\"error\",d);f&&w(e,\"load\",f);if(a){e.type=\"text/javascript\";e.async=!0;if(a=c)a=-1!==b.indexOf(\"images/I\")||/AUIClients/.test(b);a&&e.setAttribute(\"crossorigin\",\"anonymous\");e.src=b}else e.rel=\"stylesheet\",e.href=b;h.getElementsByTagName(\"head\")[0].appendChild(e)}function aa(a,b){function c(c,d){function f(){ra(b,\\nc,h,function(b){!F&&h?(h=!1,x(\"resource_retry\"),f()):(x(\"resource_error\"),a.log(\"Asset failed to load: \"+c,F?\"WARN\":void 0));b&&b.stopPropagation?b.stopPropagation():g.event&&(g.event.cancelBubble=!0)},d)}if(ba[c])return!1;ba[c]=!0;x(\"resource_count\");var h=!0;return!f()}if(b){var d=0,f=0;c.andConfirm=function(a,b){return c(a,function(){d++;b&&b.apply(this,arguments)})};c.confirm=function(){f++};c.getCsriCounters=function(){return{reqs:d,full:f}}}return c}function sa(a,b,c){for(var d={name:a,guard:function(c){return b.guardFatal(a,\\nc)},logError:function(c,d,f){b.logError(c,d,f,a)}},f=[],e=0;e<c.length;e++)G.hasOwnProperty(c[e])&&(f[e]=S.hasOwnProperty(c[e])?S[c[e]](G[c[e]],d):G[c[e]]);return f}function A(a,b,c,d,f){return function(e,h){function n(){var a=null;d?a=h:\"function\"===typeof h&&(p.start=B(),a=h.apply(g,sa(e,k,l)),p.end=B());if(b){G[e]=a;a=e;for(Z[a]=!0;(z[a]||[]).length;)z[a].shift()();delete z[a]}p.done=!0}var k=f||this;\"function\"===typeof e&&(h=e,e=void 0);b&&(e=e?e.replace(ca,\"\"):\"__NONAME__\",T.hasOwnProperty(e)&&\\nk.error(q(\", reregistered by \",q(\" by \",e+\" already registered\",T[e]),k.attribution),e),T[e]=k.attribution);for(var l=[],m=0;m<a.length;m++)l[m]=a[m].replace(ca,\"\");var p=da[e||\"anon\"+ ++ta]={depend:l,registered:B(),namespace:k.namespace};c?n():qa(l,k.guardFatal(e,n));return{decorate:function(a){S[e]=k.guardFatal(e,a)}}}}function ea(a){return function(){var b=Array.prototype.slice.call(arguments);return{execute:A(b,!1,a,!1,this),register:A(b,!0,a,!1,this)}}}function U(a,b){return function(c,d){d||\\n(d=c,c=void 0);var f=this.attribution;return function(){y.push(b||{attribution:f,name:c,logLevel:a});var e=d.apply(this,arguments);y.pop();return e}}}function H(a,b){this.load={js:aa(this,!0),css:aa(this)};E(this,\"namespace\",b);E(this,\"attribution\",a)}function fa(){h.body?p.trigger(\"a-bodyBegin\"):setTimeout(fa,20)}function C(a,b){if(b){for(var c=a.className.split(\" \"),d=c.length;d--;)if(c[d]===b)return;a.className+=\" \"+b}}function ga(a,b){for(var c=a.className.split(\" \"),d=[],f;void 0!==(f=c.pop());)f&&\\nf!==b&&d.push(f);a.className=d.join(\" \")}function ha(a){try{return a()}catch(b){return!1}}function I(){if(J){var a=g.innerWidth?{w:g.innerWidth,h:g.innerHeight}:{w:m.clientWidth,h:m.clientHeight};5<Math.abs(a.w-V.w)||50<a.h-V.h?(V=a,K=4,(a=n.mobile||n.tablet?450<a.w&&a.w>a.h:1250<=a.w)?C(m,\"a-ws\"):ga(m,\"a-ws\")):0<K&&(K--,ia=setTimeout(I,16))}}function ua(a){(J=void 0===a?!J:!!a)&&I()}function va(){return J}function r(a,b){return\"sw:\"+(b||\"\")+\":\"+a+\":\"}function ja(a,b,c,d){if(c){b=l(/Chrome/i)&&!l(/Edge/i)&&\\n!l(/OPR/i)&&!a.capabilities.isAmazonApp;var f=r(d,\"browser\"),e=r(d,\"prod_mshop\"),g=r(d,\"beta_mshop\");!a.capabilities.isAmazonApp&&c.browser&&b&&(k(f+\"supported\"),c.browser.action(f,d));!b&&c.browser&&k(f+\"unsupported\");c.prodMshop&&k(e+\"unsupported\");c.betaMshop&&k(g+\"unsupported\")}}\"use strict\";var L=O.now=O.now||function(){return+new O},B=function(a){return a&&a.now?a.now.bind(a):L}(g.performance);pa=B();var t=g.AmazonUIPageJS||g.P;if(t&&t.when&&t.register)throw Error(\"A copy of P has already been loaded on this page.\");\\nvar v=g.ue;k();k(\"aui_build_date:3.18.16-2018-12-27\");var Q=[],R=!1,Y;Y=function(){for(var a=P(),b=L();Q.length;)if(Q.shift()(),50<L()-b)return;clearTimeout(a);R=!1};l(/OS 6_[0-9]+ like Mac OS X/i)&&w(g,\"scroll\",P);var Z={},z={},ba={},F=!1;w(g,\"beforeunload\",function(){F=!0;setTimeout(function(){F=!1},1E4)});var ca=/^prv:/,T={},G={},S={},da={},ta=0,D,y=[],ka=g.onerror;g.onerror=function(a,b,c,d,f){f&&\"object\"===typeof f||(f=Error(a,b,c),f.columnNumber=d,f.stack=b||c||d?q(String.fromCharCode(92),f.message,\\n\"at \"+q(\":\",b,c,d)):void 0);var e=y.pop()||{};f.attribution=q(\":\",f.attribution||e.attribution,e.name);f.logLevel=e.logLevel;f.attribution&&console&&console.log&&console.log([f.logLevel||\"ERROR\",a,\"thrown by\",f.attribution].join(\" \"));y=[];ka&&(e=[].slice.call(arguments),e[4]=f,ka.apply(g,e))};H.prototype={logError:function(a,b,c,d){b={message:b,logLevel:c||\"ERROR\",attribution:q(\":\",this.attribution,d)};if(g.ueLogError)return g.ueLogError(a||b,a?b:null),!0;console&&console.error&&(console.log(b),\\nconsole.error(a));return!1},error:function(a,b,c,d){a=Error(q(\":\",d,a,c));a.attribution=q(\":\",this.attribution,b);throw a;},guardError:U(),guardFatal:U(\"FATAL\"),guardCurrent:function(a){var b=y[y.length-1];return b?U(b.logLevel,b).call(this,a):a},log:function(a,b,c){return this.logError(null,a,b,c)},declare:A([],!0,!0,!0),register:A([],!0),execute:A([]),AUI_BUILD_DATE:\"3.18.16-2018-12-27\",when:ea(),now:ea(!0),trigger:function(a,b,c){var d=L();this.declare(a,{data:b,pageElapsedTime:d-(g.aPageStart||\\nNaN),triggerTime:d});c&&c.instrument&&D.when(\"prv:a-logTrigger\").execute(function(b){b(a)})},handleTriggers:function(){this.log(\"handleTriggers deprecated\")},attributeErrors:function(a){return new H(a)},_namespace:function(a,b){return new H(a,b)}};var p=E(g,\"AmazonUIPageJS\",new H);D=p._namespace(\"PageJS\",\"AmazonUI\");D.declare(\"prv:p-debug\",da);p.declare(\"p-recorder-events\",[]);p.declare(\"p-recorder-stop\",function(){});E(g,\"P\",p);fa();if(h.addEventListener){var la;h.addEventListener(\"DOMContentLoaded\",\\nla=function(){p.trigger(\"a-domready\");h.removeEventListener(\"DOMContentLoaded\",la,!1)},!1)}var m=h.documentElement,W=function(){var a=[\"O\",\"ms\",\"Moz\",\"Webkit\"],b=h.createElement(\"div\");return{testGradients:function(){b.style.cssText=\"background-image:-webkit-gradient(linear,left top,right bottom,from(#9f9),to(white));background-image:-webkit-linear-gradient(left top,#9f9,white);background-image:linear-gradient(left top,#9f9,white);\";return-1<b.style.backgroundImage.indexOf(\"gradient\")},test:function(c){var d=\\nc.charAt(0).toUpperCase()+c.substr(1);c=(a.join(d+\" \")+d+\" \"+c).split(\" \");for(d=c.length;d--;)if(\"\"===b.style[c[d]])return!0;return!1},testTransform3d:function(){var a=!1;g.matchMedia&&(a=g.matchMedia(\"(-webkit-transform-3d)\").matches);return a}}}(),t=m.className,ma=/(^| )a-mobile( |$)/.test(t),na=/(^| )a-tablet( |$)/.test(t),n={audio:function(){return!!h.createElement(\"audio\").canPlayType},video:function(){return!!h.createElement(\"video\").canPlayType},canvas:function(){return!!h.createElement(\"canvas\").getContext},\\nsvg:function(){return!!h.createElementNS&&!!h.createElementNS(\"http://www.w3.org/2000/svg\",\"svg\").createSVGRect},offline:function(){return navigator.hasOwnProperty&&navigator.hasOwnProperty(\"onLine\")&&navigator.onLine},dragDrop:function(){return\"draggable\"in h.createElement(\"span\")},geolocation:function(){return!!navigator.geolocation},history:function(){return!(!g.history||!g.history.pushState)},webworker:function(){return!!g.Worker},autofocus:function(){return\"autofocus\"in h.createElement(\"input\")},\\ninputPlaceholder:function(){return\"placeholder\"in h.createElement(\"input\")},textareaPlaceholder:function(){return\"placeholder\"in h.createElement(\"textarea\")},localStorage:function(){return\"localStorage\"in g&&null!==g.localStorage},orientation:function(){return\"orientation\"in g},touch:function(){return\"ontouchend\"in h},gradients:function(){return W.testGradients()},hires:function(){var a=g.devicePixelRatio&&1.5<=g.devicePixelRatio||g.matchMedia&&g.matchMedia(\"(min-resolution:144dpi)\").matches;x(\"hiRes\"+\\n(ma?\"Mobile\":na?\"Tablet\":\"Desktop\"),a?1:0);return a},transform3d:function(){return W.testTransform3d()},touchScrolling:function(){return l(/Windowshop|android.([3-9]|[L-Z])|OS ([5-9]|[1-9][0-9]+)(_[0-9]{1,2})+ like Mac OS X|Chrome|Silk|Firefox|Trident.+?; Touch/i)},ios:function(){return l(/OS [1-9][0-9]*(_[0-9]*)+ like Mac OS X/i)&&!l(/trident|Edge/i)},android:function(){return l(/android.([1-9]|[L-Z])/i)&&!l(/trident|Edge/i)},mobile:function(){return ma},tablet:function(){return na}},u;for(u in n)n.hasOwnProperty(u)&&\\n(n[u]=ha(n[u]));for(var X=\"textShadow textStroke boxShadow borderRadius borderImage opacity transform transition\".split(\" \"),M=0;M<X.length;M++)n[X[M]]=ha(function(){return W.test(X[M])});var J=!0,ia=0,V={w:0,h:0},K=4;I();w(g,\"resize\",function(){clearTimeout(ia);K=4;I()});var oa={getItem:function(a){try{return g.localStorage.getItem(a)}catch(b){}},setItem:function(a,b){try{return g.localStorage.setItem(a,b)}catch(c){}}};ga(m,\"a-no-js\");C(m,\"a-js\");!l(/OS [1-8](_[0-9]*)+ like Mac OS X/i)||g.navigator.standalone||\\nl(/safari/i)||C(m,\"a-ember\");t=[];for(u in n)n.hasOwnProperty(u)&&n[u]&&t.push(\"a-\"+u.replace(/([A-Z])/g,function(a){return\"-\"+a.toLowerCase()}));C(m,t.join(\" \"));m.setAttribute(\"data-aui-build-date\",\"3.18.16-2018-12-27\");p.register(\"p-detect\",function(){return{capabilities:n,localStorage:n.localStorage&&oa,toggleResponsiveGrid:ua,responsiveGridEnabled:va}});l(/UCBrowser/i)||n.localStorage&&C(m,oa.getItem(\"a-font-class\"));p.declare(\"a-event-revised-handling\",!1);var N=navigator.serviceWorker;N&&w(N,\\n\"message\",function(a){a&&a.data&&x(a.data.k,a.data.v)});(function(a){var b=a.reg,c=a.unreg;N&&N.getRegistrations?(D.when(\"A\",\"a-util\").execute(function(a,b){ja(a,b,c,\"unregister\")}),w(g,\"load\",function(){D.when(\"A\",\"a-util\").execute(function(a,c){ja(a,c,b,\"register\")})})):(b&&(b.browser&&k(r(\"register\",\"browser\")+\"unsupported\"),b.prodMshop&&k(r(\"register\",\"prod_mshop\")+\"unsupported\"),b.betaMshop&&k(r(\"register\",\"beta_mshop\")+\"unsupported\")),c&&(c.browser&&k(r(\"unregister\",\"browser\")+\"unsupported\"),\\nc.prodMshop&&k(r(\"unregister\",\"prod_mshop\")+\"unsupported\"),c.betaMshop&&k(r(\"unregister\",\"beta_mshop\")+\"unsupported\")))})({reg:{},unreg:{}});p.declare(\"a-fix-event-off\",!1);x(\"pagejs:pkgExecTime\",B()-NaN)})(window,document,Date);\\n(window.AmazonUIPageJS ? AmazonUIPageJS : P).load.js(\\'https://m.media-amazon.com/images/I/611lNbSiw8L._RC|11IYhapguOL.js,61VQRvc280L.js,21iSNz47xoL.js,012FVc3131L.js,119KAWlHU6L.js,31fv8bqHLoL.js,31ReKJl2X6L.js,51WivJzk7vL.js,11AHlQhPRjL.js,01NATrwbNUL.js,11aNYFFS5hL.js,116tgw9TSaL.js,21auxuI+dRL.js,01PoLXBDXWL.js,61M1ROXu3XL.js,01mi-J86cyL.js,11BOgvnnntL.js,31SG6rlHlbL.js,01rpauTep4L.js,01iyxuSGj4L.js,01XI-Ief5sL.js_.js?AUIClients/AmazonUI\\');\\n(window.AmazonUIPageJS ? AmazonUIPageJS : P).load.js(\\'https://m.media-amazon.com/images/I/21G215oqvfL._RC|21OJDARBhQL.js,1140xMp++9L.js,411cVmdl12L.js,21eSNvaI9RL.js,61Qv7QimEdL.js_.js?AUIClients/IMDbProSiteAssets\\');\\n(window.AmazonUIPageJS ? AmazonUIPageJS : P).load.js(\\'https://m.media-amazon.com/images/I/51h-19KC6JL.js?AUIClients/IMDbProSiteHeaderFooterAssets\\');\\n(window.AmazonUIPageJS ? AmazonUIPageJS : P).load.js(\\'https://m.media-amazon.com/images/I/81K6Clym3oL.js?AUIClients/IMDbProConstPageAssets\\');\\n(window.AmazonUIPageJS ? AmazonUIPageJS : P).load.js(\\'https://m.media-amazon.com/images/I/31jVM5TVY9L.js?AUIClients/AmazonUIFormControlsJS\\');\\n\\n\\n@font-face {\\nfont-family: \\'Glyphicons Regular\\';\\nsrc: url(\\'/api/fonts/glyphicons-regular-192.eot\\');\\nsrc: url(\\'/api/fonts/glyphicons-regular-192.eot?#iefix\\') format(\\'embedded-opentype\\'),\\nurl(\\'/api/fonts/glyphicons-regular-192.woff2\\') format(\\'woff2\\'),\\nurl(\\'/api/fonts/glyphicons-regular-192.woff\\') format(\\'woff\\'),\\nurl(\\'/api/fonts/glyphicons-regular-192.ttf\\') format(\\'truetype\\'),\\nurl(\\'/api/fonts/glyphicons-regular-192.svg#glyphiconsregular\\') format(\\'svg\\');\\nfont-weight: normal;\\nfont-style: normal;\\n}\\n@font-face {\\nfont-family: \\'Glyphicons Halflings\\';\\nsrc: url(\\'/api/fonts/glyphicons-halflings-regular-192.eot\\');\\nsrc: url(\\'/api/fonts/glyphicons-halflings-regular-192.eot?#iefix\\') format(\\'embedded-opentype\\'),\\nurl(\\'/api/fonts/glyphicons-halflings-regular-192.woff2\\') format(\\'woff2\\'),\\nurl(\\'/api/fonts/glyphicons-halflings-regular-192.woff\\') format(\\'woff\\'),\\nurl(\\'/api/fonts/glyphicons-halflings-regular-192.ttf\\') format(\\'truetype\\'),\\nurl(\\'/api/fonts/glyphicons-halflings-regular-192.svg#glyphicons_halflingsregular\\') format(\\'svg\\');\\nfont-weight: normal;\\nfont-style: normal;\\n}\\n@font-face {\\nfont-family: \\'Glyphicons Social\\';\\nsrc: url(\\'/api/fonts/glyphicons-social-regular.eot\\');\\nsrc: url(\\'/api/fonts/glyphicons-social-regular.eot?#iefix\\') format(\\'embedded-opentype\\'),\\nurl(\\'/api/fonts/glyphicons-social-regular.woff2\\') format(\\'woff2\\'),\\nurl(\\'/api/fonts/glyphicons-social-regular.woff\\') format(\\'woff\\'),\\nurl(\\'/api/fonts/glyphicons-social-regular.ttf\\') format(\\'truetype\\'),\\nurl(\\'/api/fonts/glyphicons-social-regular.svg#glyphicons_socialregular\\') format(\\'svg\\');\\nfont-weight: normal;\\nfont-style: normal;\\n}\\n\\n{\"AUI_149818\":null,\"AUI_152852\":null,\"AUI_157141\":null,\"AUI_158613\":null,\"AUI_160684\":null,\"AUI_57326\":null,\"AUI_72554\":null,\"AUI_ACCESSIBILITY_49860\":null,\"AUI_ATTR_VALIDATIONS_1_51371\":null,\"AUI_BOLT_62845\":null,\"AUI_PERF_130093\":null,\"AUI_TNR_V2_180836\":null,\"AUI_UX_113788\":null,\"AUI_UX_114039\":null,\"AUI_UX_138741\":null,\"AUI_UX_145937\":null,\"AUI_UX_60000\":null}\\n\\n\\nif(typeof uet === \\'function\\'){uet(\\'bb\\',\\'IMDbPro_UpsellWidget\\',{wb:1});}\\n\\n Become an IMDbPro Member Today\\n Get access to the leading information resource for the entertainment industry\\n\\n\\n Find Contacts & Representation\\n Showcase Yourself\\n Follow Industry Trends\\n\\n Stay connected with contact details for over 300,000 industry professionals and companies\\n Manage your photos and the credits you\\'re Known For on IMDbPro, IMDb and Amazon Video\\n Keep up to date with entertainment news and follow in-development titles not available on IMDb\\n\\n Start your 30-Day free trial\\n\\n Already a member?\\n Log In\\n\\n\\n\\nif(typeof uex === \\'function\\'){uex(\\'ld\\',\\'IMDbPro_UpsellWidget\\',{wb:1});}\\n\\n\\n\\n\\n\\n\\n\\n\\nIMDbPro\\n\\n\\n\\nSearch\\n\\n\\n\\n\\n\\n\\n\\nSee all results for \"\" »\\n\\n\\n\\n\\n\\n\\n\\nAlready a subscriber? \\nLog In\\n\\n\\n\\n\\n\\n\\nHome\\n\\n\\nYour Page\\n\\n\\nYour Tools\\n\\n\\nPages You Track\\n\\n\\nYour Lists\\n\\n\\nYour Casting Breakdowns\\n\\n\\nYour Submissions\\n\\n\\n\\n\\nCasting Notices\\n\\n\\nPeople\\n\\n\\nTop STARmeter\\n\\n\\nActors\\n\\n\\nActresses\\n\\n\\nDirectors\\n\\n\\nWriters\\n\\n\\nProducers\\n\\n\\nTalent Agents\\n\\n\\nManagers\\n\\n\\n\\n\\nTitles\\n\\n\\nTop MOVIEmeter\\n\\n\\nMovies in Development\\n\\n\\nMovies in Pre-Production\\n\\n\\nMovies in Production\\n\\n\\nMovies in Post-Production\\n\\n\\nReleased Movies\\n\\n\\nTV in Production\\n\\n\\n\\n\\nCompanies\\n\\n\\nTop COMPANYmeter\\n\\n\\nProduction Companies\\n\\n\\nTalent Agencies\\n\\n\\nManagement Companies\\n\\n\\nDistributors\\n\\n\\nPublicists\\n\\n\\n\\n\\nNews\\n\\n\\nTop Stories\\n\\n\\nBox Office Mojo\\n\\n\\nVariety\\n\\n\\nHollywood Reporter\\n\\n\\nDeadline\\n\\n\\nThe Wrap\\n\\n\\n\\n\\n\\n\\n\\n\\n\\n\\n\\n\\nElizabeth LailActress\\n\\n\\n\\n\\nVisit on IMDb\\n\\n\\n\\nElizabeth Dean Lail (born March 25, 1992) is an American actress. She is known for her role as Anna in the ABC adventure fantasy television series Once Upon a Time.Lail was born in Williamson County,...\\n read full biography\\n\\n Known for\\nOnce Upon a Time (2014),\\nYou (2018),\\nUnintended (I) (2018),\\nThe Blacklist (2017)\\n Details\\n\\nMar\\n25,\\n1992 (age 26)\\n\\n|\\n5\\' 8\"\\n (1.73m)\\n\\n\\n External links\\n\\n@elizabethdlail (twitter.com)\\n|\\n 2 official web\\nsites & 5 more\\nlinks\\n Images\\n\\n (67)\\n\\n\\n\\n Trending & News\\n\\n  STARmeter\\n\\n\\n 1\\n\\n\\n News articles\\n \\n140 1 new article\\n\\n\\n\\n\\n\\n\\n\\n\\n Contacts\\n\\nBecome a member to access contact information\\n Start your free trial\\n\\n\\n Filmography\\n About\\n Images\\n Videos\\n Network\\n Clients\\n News\\n\\n\\nFilmography\\nEdit \\n\\nFilter by profession\\n Actress (8)\\n Actor (1)\\n Self (2)\\n\\n\\n Clear\\n\\n 11 titles\\n\\n\\n Past Film & Video\\n (3 titles)\\n\\n\\n Budget\\n\\n U.S. Gross\\n\\n Worldwide\\n\\n\\n\\n\\n \\nUnintended (2018)\\n\\n\\nLea\\n\\n Lea\\n\\xa0\\n See fewer\\n\\n\\n\\n\\n\\n\\n \\nWithout (2014)\\n\\n\\n (Short)\\n\\n-\\nEmily (as Elizabeth Dean Lail)\\n\\n Emily (as Elizabeth Dean Lail)\\n\\xa0\\n See fewer\\n\\n\\n\\n$2K\\n\\n\\n\\n\\n \\nModel Airplane (2011)\\n\\n\\n (Short)\\n\\n-\\nAnna (as Elizabeth Dean Lail)\\n\\n Anna (as Elizabeth Dean Lail)\\n\\xa0\\n See fewer\\n\\n\\n\\n\\n\\n\\n Past Television\\n (5 titles)\\n\\n\\n Episodes\\n\\n\\n\\n\\n \\nYou (2018)\\n\\n\\n (TV Series)\\n\\n-\\nGuinevere Beck (10 episodes,\\n2018)\\n\\n Guinevere Beck (10 episodes,\\n2018)\\n\\xa0\\n See fewer\\n\\n\\nBluebeard\\'s Castle (Nov\\n11,\\n2018)\\n Season 1,\\nEpisode 10\\n\\n-\\nGuinevere Beck\\n\\n Guinevere Beck\\n\\xa0\\n See fewer\\n\\n\\nSee moreSee fewer Loading\\n\\n 10\\n\\n\\n \\nThe Good Fight (2018)\\n\\n\\n (TV Series)\\n\\n-\\nEmily Chapin (1 episode,\\n2018)\\n\\n Emily Chapin (1 episode,\\n2018)\\n\\xa0\\n See fewer\\n\\n\\nDay 478 (May\\n13,\\n2018)\\n Season 2,\\nEpisode 11\\n\\n-\\nEmily Chapin\\n\\n Emily Chapin\\n\\xa0\\n See fewer\\n\\n\\n 1\\n\\n\\n \\nThe Blacklist (2017)\\n\\n\\n (TV Series)\\n\\n-\\nNatalie Luca (1 episode,\\n2017)\\n\\n Natalie Luca (1 episode,\\n2017)\\n\\xa0\\n See fewer\\n\\n\\nNatalie Luca (No. 184) (Feb\\n2,\\n2017)\\n Season 4,\\nEpisode 12\\n\\n-\\nNatalie Luca\\n\\n Natalie Luca\\n\\xa0\\n See fewer\\n\\n\\n 1\\n\\n\\n \\nDead of Summer (2016)\\n\\n\\n (TV Series)\\n\\n-\\nAmy Hughes (10 episodes,\\n2016)\\n\\n Amy Hughes (10 episodes,\\n2016)\\n\\xa0\\n See fewer\\n\\n\\nShe Talks to Angels (Aug\\n30,\\n2016)\\n Season 1,\\nEpisode 10\\n\\n-\\nAmy Hughes\\n\\n Amy Hughes\\n\\xa0\\n See fewer\\n\\n\\nSee moreSee fewer Loading\\n\\n 10\\n\\n\\n \\nOnce Upon a Time (2014)\\n\\n\\n (TV Series)\\n\\n-\\nPrincess Anna / Joan (10 episodes,\\n2014)\\n\\n Princess Anna / Joan (10 episodes,\\n2014)\\n\\xa0\\n See fewer\\n\\n\\nHeroes and Villains (Dec\\n14,\\n2014)\\n Season 4,\\nEpisode 12\\n\\n-\\nPrincess Anna\\n\\n Princess Anna\\n\\xa0\\n See fewer\\n\\n\\nSee moreSee fewer Loading\\n\\n 10\\n\\n\\n Self\\n (2 titles)\\n\\n\\n Budget\\n\\n U.S. Gross\\n\\n Worldwide\\n\\n\\n\\n\\n \\nOk! TV (2018)\\n\\n\\n (TV Series)\\n\\n-\\nHerself (1 episode,\\n2018)\\n\\n Herself (1 episode,\\n2018)\\n\\xa0\\n See fewer\\n\\n\\nEpisode #4.16 (Sep\\n24,\\n2018)\\n Season 4,\\nEpisode 16\\n\\n-\\nHerself\\n\\n Herself\\n\\xa0\\n See fewer\\n\\n\\n\\n\\n\\n\\n \\nSidewalks Entertainment (2018)\\n\\n\\n (TV Series)\\n\\n-\\nHerself - Guest (1 episode,\\n2018)\\n\\n Herself - Guest (1 episode,\\n2018)\\n\\xa0\\n See fewer\\n\\n\\nElizabeth Lail and Penn Badgley (Sep\\n7,\\n2018)\\n Season 29,\\nEpisode 2\\n\\n-\\nHerself - Guest\\n\\n Herself - Guest\\n\\xa0\\n See fewer\\n\\n\\n\\n\\n\\n\\n Archive Footage\\n (1 title)\\n\\n Budget\\n U.S. Gross\\n Worldwide\\n\\n\\n\\n \\nStorybrooke Has Frozen Over (2014)\\n\\n\\n (TV Movie)\\n\\n-\\nAnna (archive footage)\\n\\n Anna (archive footage)\\n\\xa0\\n See fewer\\n\\n\\n\\n\\n\\n There was an issue loading this tab.\\n\\n Try again\\n There was an issue loading this tab.\\n\\n Try again\\n There was an issue loading this tab.\\n\\n Try again\\n There was an issue loading this tab.\\n\\n Try again\\n There was an issue loading this tab.\\n\\n Try again\\n There was an issue loading this tab.\\n\\n Try again\\n There was an issue loading this tab.\\n\\n Try again\\n\\n\\n\\n\\n\\n\\n STARmeter\\n\\n 1\\n\\n\\n Become a member to access additional data\\n Start your free trial\\n\\n\\nPeople also viewed\\n\\n\\n Name\\n STARmeter\\n\\n\\n\\n \\nPenn Badgley Actor\\n\\n 6\\n\\n\\n\\n \\nShay Mitchell Actress\\n\\n 29\\n\\n\\n\\n \\nKathryn Gallagher Actor\\n\\n 294\\n\\n\\n\\n \\nLuca Padovan Actor\\n\\n 1,135\\n\\n\\n\\n \\nIrina Shayk Actress\\n\\n 11\\n\\n\\n\\n See all (100)\\n\\n\\n\\n Edit page\\n\\n \\n\\n\\n \\n\\n\\nMAIN MENU\\n\\n\\nHome\\n\\n\\nMy Page\\n\\n\\nCasting Notices\\n\\n\\nView Mobile Site\\n\\n\\n\\n\\nPeople\\n\\n\\nTitles\\n\\n\\nCompanies\\n\\n\\nNews\\n\\n\\n\\n\\nMY TOOLS\\n\\n\\nPages You Track\\n\\n\\nYour Lists\\n\\n\\nYour Casting Breakdowns\\n\\n\\nYour Submissions\\n\\n\\n\\n\\nYOUR ACCOUNT\\n\\n\\nAccount Settings\\n\\n\\nCancel\\n\\n\\n\\n\\nIMDbPro\\n\\n\\nCopyright 2019\\n\\n\\nSubscriber Agreement\\n\\n\\nPrivacy Policy\\n\\n\\nContact Us\\n\\n\\nHelp\\n\\n\\n\\n\\n\\n\\n\\nwindow.addEventListener(\"load\", function(event) {\\ntry{\\nvar url_sis3 = \\'https://s.amazon-adsystem.com/iu3?\\',\\nparams_sis3 = [\\n\"d=imdb.com\",\\n\"a1=\",\\n\"a2=0100a1823ca3d5d46ce03d4502edf28f095b20f780c29eddcddebefb2933fa9c1e98\",\\n\"cb=\" + parseInt(Math.random()*99999999),\\n\"ex-hargs=\" + encodeURIComponent(\"v=1.0;c=IMDB;p=PRO\")\\n];\\nvar pixelUrl = url_sis3 + params_sis3.join(\\'&\\');\\n(document.getElementById(\\'sis_pixel_3\\')).src = pixelUrl;\\n} catch(e){\\n}\\n});\\n\\n'"
      ]
     },
     "execution_count": 37,
     "metadata": {},
     "output_type": "execute_result"
    }
   ],
   "source": [
    "soup.text"
   ]
  },
  {
   "cell_type": "code",
   "execution_count": null,
   "metadata": {},
   "outputs": [],
   "source": [
    "# Extract Height\n",
    "# Extract Number of articles written about actor\n",
    "# Extract URL of Articles Written \n",
    "# Extract Number of images on IMDb\n",
    "# Extract URL of first Known For films\n",
    "# Extract URL of last film with budget numbers\n",
    "# Extract Production Budget of last film with budget numbers\n",
    "# Extract US Gross of last film with production budget numbers\n",
    "# Extract Worldwide Gross of last film with production budget numbers\n",
    "# Extract Instagram page URL\n",
    "# Extract Twitter page URL"
   ]
  },
  {
   "cell_type": "code",
   "execution_count": null,
   "metadata": {},
   "outputs": [],
   "source": [
    "# Open up page of most recently released film for each actor with a production budget\n",
    "# Extract MOVIEmeter rating of film\n",
    "# Extract Budget\n",
    "# Extract Opening Weekend\n",
    "# Extract Gross (USA)\n",
    "# Extract Gross (World)\n",
    "# Extract Release Date\n",
    "# Exract Ratings Breakdown \n",
    "# Extract Number of Ratings Votes"
   ]
  },
  {
   "cell_type": "markdown",
   "metadata": {},
   "source": [
    "#### Stretch Goals"
   ]
  },
  {
   "cell_type": "code",
   "execution_count": null,
   "metadata": {},
   "outputs": [],
   "source": [
    "# Go to actor's Article's Written page and get time since last article written\n",
    "# Get total time since last 5 articles written"
   ]
  },
  {
   "cell_type": "code",
   "execution_count": 48,
   "metadata": {},
   "outputs": [],
   "source": [
    "import pandas as pd\n",
    "import numpy as np"
   ]
  },
  {
   "cell_type": "code",
   "execution_count": 50,
   "metadata": {},
   "outputs": [
    {
     "name": "stderr",
     "output_type": "stream",
     "text": [
      "/anaconda3/lib/python3.6/site-packages/IPython/core/interactiveshell.py:3020: DtypeWarning: Columns (5) have mixed types. Specify dtype option on import or set low_memory=False.\n",
      "  interactivity=interactivity, compiler=compiler, result=result)\n"
     ]
    }
   ],
   "source": [
    "df = pd.read_csv('title.basics.tsv', sep='\\t')"
   ]
  },
  {
   "cell_type": "code",
   "execution_count": 51,
   "metadata": {},
   "outputs": [
    {
     "data": {
      "text/html": [
       "<div>\n",
       "<style scoped>\n",
       "    .dataframe tbody tr th:only-of-type {\n",
       "        vertical-align: middle;\n",
       "    }\n",
       "\n",
       "    .dataframe tbody tr th {\n",
       "        vertical-align: top;\n",
       "    }\n",
       "\n",
       "    .dataframe thead th {\n",
       "        text-align: right;\n",
       "    }\n",
       "</style>\n",
       "<table border=\"1\" class=\"dataframe\">\n",
       "  <thead>\n",
       "    <tr style=\"text-align: right;\">\n",
       "      <th></th>\n",
       "      <th>tconst</th>\n",
       "      <th>titleType</th>\n",
       "      <th>primaryTitle</th>\n",
       "      <th>originalTitle</th>\n",
       "      <th>isAdult</th>\n",
       "      <th>startYear</th>\n",
       "      <th>endYear</th>\n",
       "      <th>runtimeMinutes</th>\n",
       "      <th>genres</th>\n",
       "    </tr>\n",
       "  </thead>\n",
       "  <tbody>\n",
       "    <tr>\n",
       "      <th>0</th>\n",
       "      <td>tt0000001</td>\n",
       "      <td>short</td>\n",
       "      <td>Carmencita</td>\n",
       "      <td>Carmencita</td>\n",
       "      <td>0</td>\n",
       "      <td>1894</td>\n",
       "      <td>\\N</td>\n",
       "      <td>1</td>\n",
       "      <td>Documentary,Short</td>\n",
       "    </tr>\n",
       "    <tr>\n",
       "      <th>1</th>\n",
       "      <td>tt0000002</td>\n",
       "      <td>short</td>\n",
       "      <td>Le clown et ses chiens</td>\n",
       "      <td>Le clown et ses chiens</td>\n",
       "      <td>0</td>\n",
       "      <td>1892</td>\n",
       "      <td>\\N</td>\n",
       "      <td>5</td>\n",
       "      <td>Animation,Short</td>\n",
       "    </tr>\n",
       "    <tr>\n",
       "      <th>2</th>\n",
       "      <td>tt0000003</td>\n",
       "      <td>short</td>\n",
       "      <td>Pauvre Pierrot</td>\n",
       "      <td>Pauvre Pierrot</td>\n",
       "      <td>0</td>\n",
       "      <td>1892</td>\n",
       "      <td>\\N</td>\n",
       "      <td>4</td>\n",
       "      <td>Animation,Comedy,Romance</td>\n",
       "    </tr>\n",
       "    <tr>\n",
       "      <th>3</th>\n",
       "      <td>tt0000004</td>\n",
       "      <td>short</td>\n",
       "      <td>Un bon bock</td>\n",
       "      <td>Un bon bock</td>\n",
       "      <td>0</td>\n",
       "      <td>1892</td>\n",
       "      <td>\\N</td>\n",
       "      <td>\\N</td>\n",
       "      <td>Animation,Short</td>\n",
       "    </tr>\n",
       "    <tr>\n",
       "      <th>4</th>\n",
       "      <td>tt0000005</td>\n",
       "      <td>short</td>\n",
       "      <td>Blacksmith Scene</td>\n",
       "      <td>Blacksmith Scene</td>\n",
       "      <td>0</td>\n",
       "      <td>1893</td>\n",
       "      <td>\\N</td>\n",
       "      <td>1</td>\n",
       "      <td>Comedy,Short</td>\n",
       "    </tr>\n",
       "  </tbody>\n",
       "</table>\n",
       "</div>"
      ],
      "text/plain": [
       "      tconst titleType            primaryTitle           originalTitle  \\\n",
       "0  tt0000001     short              Carmencita              Carmencita   \n",
       "1  tt0000002     short  Le clown et ses chiens  Le clown et ses chiens   \n",
       "2  tt0000003     short          Pauvre Pierrot          Pauvre Pierrot   \n",
       "3  tt0000004     short             Un bon bock             Un bon bock   \n",
       "4  tt0000005     short        Blacksmith Scene        Blacksmith Scene   \n",
       "\n",
       "   isAdult startYear endYear runtimeMinutes                    genres  \n",
       "0        0      1894      \\N              1         Documentary,Short  \n",
       "1        0      1892      \\N              5           Animation,Short  \n",
       "2        0      1892      \\N              4  Animation,Comedy,Romance  \n",
       "3        0      1892      \\N             \\N           Animation,Short  \n",
       "4        0      1893      \\N              1              Comedy,Short  "
      ]
     },
     "execution_count": 51,
     "metadata": {},
     "output_type": "execute_result"
    }
   ],
   "source": [
    "df.head()"
   ]
  },
  {
   "cell_type": "code",
   "execution_count": 75,
   "metadata": {},
   "outputs": [
    {
     "data": {
      "text/plain": [
       "\\N      5519266\n",
       "2017       3405\n",
       "2018       2614\n",
       "2016       2560\n",
       "2015       2059\n",
       "2014       1728\n",
       "2013       1667\n",
       "2012       1566\n",
       "2011       1393\n",
       "2009       1323\n",
       "2010       1315\n",
       "2008       1209\n",
       "2004       1104\n",
       "2005       1089\n",
       "2006       1079\n",
       "2007       1063\n",
       "2003        993\n",
       "2002        930\n",
       "2001        908\n",
       "1999        809\n",
       "2000        791\n",
       "1998        733\n",
       "1997        688\n",
       "1995        615\n",
       "1996        608\n",
       "1994        573\n",
       "1993        536\n",
       "1992        518\n",
       "1991        502\n",
       "1990        485\n",
       "         ...   \n",
       "1956        110\n",
       "1955        103\n",
       "1954         97\n",
       "1953         97\n",
       "1952         86\n",
       "1951         83\n",
       "1950         57\n",
       "2020         55\n",
       "1949         55\n",
       "1948         17\n",
       "1947         15\n",
       "1932         11\n",
       "1939          7\n",
       "2021          6\n",
       "1938          4\n",
       "1946          4\n",
       "1933          4\n",
       "1942          3\n",
       "1936          3\n",
       "1941          3\n",
       "1945          2\n",
       "2025          2\n",
       "2024          2\n",
       "2022          1\n",
       "1935          1\n",
       "1927          1\n",
       "24            1\n",
       "1937          1\n",
       "2027          1\n",
       "1924          1\n",
       "Name: endYear, Length: 94, dtype: int64"
      ]
     },
     "execution_count": 75,
     "metadata": {},
     "output_type": "execute_result"
    }
   ],
   "source": [
    "df['endYear'].value_counts()"
   ]
  },
  {
   "cell_type": "code",
   "execution_count": 57,
   "metadata": {},
   "outputs": [
    {
     "data": {
      "text/plain": [
       "int"
      ]
     },
     "execution_count": 57,
     "metadata": {},
     "output_type": "execute_result"
    }
   ],
   "source": [
    "type(df.iloc[0, 5])"
   ]
  },
  {
   "cell_type": "code",
   "execution_count": 61,
   "metadata": {},
   "outputs": [
    {
     "data": {
      "text/html": [
       "<div>\n",
       "<style scoped>\n",
       "    .dataframe tbody tr th:only-of-type {\n",
       "        vertical-align: middle;\n",
       "    }\n",
       "\n",
       "    .dataframe tbody tr th {\n",
       "        vertical-align: top;\n",
       "    }\n",
       "\n",
       "    .dataframe thead th {\n",
       "        text-align: right;\n",
       "    }\n",
       "</style>\n",
       "<table border=\"1\" class=\"dataframe\">\n",
       "  <thead>\n",
       "    <tr style=\"text-align: right;\">\n",
       "      <th></th>\n",
       "      <th>tconst</th>\n",
       "      <th>titleType</th>\n",
       "      <th>primaryTitle</th>\n",
       "      <th>originalTitle</th>\n",
       "      <th>isAdult</th>\n",
       "      <th>startYear</th>\n",
       "      <th>endYear</th>\n",
       "      <th>runtimeMinutes</th>\n",
       "      <th>genres</th>\n",
       "    </tr>\n",
       "  </thead>\n",
       "  <tbody>\n",
       "  </tbody>\n",
       "</table>\n",
       "</div>"
      ],
      "text/plain": [
       "Empty DataFrame\n",
       "Columns: [tconst, titleType, primaryTitle, originalTitle, isAdult, startYear, endYear, runtimeMinutes, genres]\n",
       "Index: []"
      ]
     },
     "execution_count": 61,
     "metadata": {},
     "output_type": "execute_result"
    }
   ],
   "source": []
  },
  {
   "cell_type": "code",
   "execution_count": null,
   "metadata": {},
   "outputs": [],
   "source": []
  }
 ],
 "metadata": {
  "kernelspec": {
   "display_name": "Python 3",
   "language": "python",
   "name": "python3"
  },
  "language_info": {
   "codemirror_mode": {
    "name": "ipython",
    "version": 3
   },
   "file_extension": ".py",
   "mimetype": "text/x-python",
   "name": "python",
   "nbconvert_exporter": "python",
   "pygments_lexer": "ipython3",
   "version": "3.6.7"
  }
 },
 "nbformat": 4,
 "nbformat_minor": 2
}
